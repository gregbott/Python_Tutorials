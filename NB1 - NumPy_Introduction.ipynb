{
 "cells": [
  {
   "cell_type": "markdown",
   "metadata": {},
   "source": [
    "# Introduction to NumPy\n",
    "\n",
    "This notebook provides an introduction to the `numpy` package. The content borrows heavily from the book *Data Science Handbook*, which was written by Jake VanderPlas and is available at https://jakevdp.github.io/PythonDataScienceHandbook/ (accessed 12/17/2019).\n",
    "\n",
    "The following table of contents lists the topics discussed in this notebook. Clicking on any topic will advance the notebook to the associated area.\n",
    "\n",
    "\n",
    "# Table of Contents\n",
    "<a id=\"Table_of_Contents\"> </a>\n",
    "\n",
    "1. [NumPy](#numpy)<br>\n",
    "    1.1 [Importing NumPy](#Importing_NumPy)<br>\n",
    "    1.2 [NumPy Arrays](#NumPy_Arrays)<br>\n",
    "    1.3 [Basic Computations using NumPy Arrays](#Array_Computation)<br>\n",
    "    1.4 [Aggregations](#Array_Aggregations)<br>\n",
    "    1.5 [Broadcasting](#Array_Broadcasting)<br>\n",
    "    1.6 [Indexing Numpy Arrays](#Array_Indexing)<br>\n",
    "    1.7 [Boolean Logic with Numpy Arrays](#Array_Boolean_Logic)<br>    \n",
    "    \n",
    "#### Disclaimer\n",
    "\n",
    "This notebook is by no means a comprehensive resource for the `numpy` package. Also, it is important to realize that the Python language and the available packages will continue to evolve. That being said, the objects, functions, and methods described in this notebook may one day change. If changes occur, areas of this notebook that use deprecated features may cease to work and will need to be revised or omitted."
   ]
  },
  {
   "cell_type": "markdown",
   "metadata": {},
   "source": [
    "## NumPy\n",
    "<a id=\"numpy\"> </a>\n",
    "\n",
    "This section of the notebook will introduce the `numpy` package and demonstrate several features of the `numpy` multi-dimensional array. \n",
    "\n",
    "From https://en.wikipedia.org/wiki/NumPy (accessed on 1/6/2018):\n",
    "\n",
    ">NumPy is a library for the Python programming language, adding support for large, multi-dimensional arrays and matrices, along with a large collection of high-level mathematical functions to operate on these arrays. The ancestor of NumPy, Numeric, was originally created by Jim Hugunin with contributions from several other developers. In 2005, Travis Oliphant created NumPy by incorporating features of the competing Numarray into Numeric, with extensive modifications. NumPy is open-source software and has many contributors.\n",
    "\n",
    "[Back to Table of Contents](#Table_of_Contents)<br>"
   ]
  },
  {
   "cell_type": "markdown",
   "metadata": {},
   "source": [
    "## Importing NumPy\n",
    "<a id=\"Importing_NumPy\"> </a>\n",
    "\n",
    "Users can import available packages and modules using Python's `import` statement. Two forms of import expressions are commonly used.\n",
    "1. The first common import expression takes the form **import mypackage as mp**. This statement imports a package named *mypackage*, and assigns it to the alias *mp*. Suppose that *mypackage* contains the definition for a function named *myfunction*. If this were true, we would call *myfunction* using the syntax `mp.myfunction(*args)`, where `*args` is a placeholder for any function arguments.<br>\n",
    "\n",
    "2. The second common import expression takes the form **from mypackage import mysubmodule**. This statement imports a specific submodule from a package named *mypackage*. Since there is no alias, this type of import will bring in the functions specified in the submodule as they are writtin. For example, if the submodule *mysubmodule* includes a function called *myfunction*, we would call *myfunction* using the syntax `myfunction(*args)`, where `*args` is a placeholder for any function arguments.\n",
    "\n",
    "<div class=\"alert alert-block alert-danger\">\n",
    "    <b>Name conflicts with <i>from - import</i> approach:</b> When using the <i>from - import</i> approach sepcified in bullet 2, it is important to make sure that method names in package or module you are importing do not conflict with names defined in the importing code. For example, if we import a submodule named *mysubmodule* that includes a function called *myfunction*, but we also have a function named *myfunction* in the importing code, there will be a naming conflict.\n",
    "</div>\n",
    "\n",
    "The following code block uses the *import - as* approach to import NumPy. The alias *np* is a standard convention.\n",
    "\n",
    "[Back to Table of Contents](#Table_of_Contents)<br>"
   ]
  },
  {
   "cell_type": "code",
   "execution_count": 1,
   "metadata": {},
   "outputs": [],
   "source": [
    "import numpy as np"
   ]
  },
  {
   "cell_type": "markdown",
   "metadata": {},
   "source": [
    "#### Motivation for NumPy\n",
    "\n",
    "Before we look at specific details of the NumPy package, it is important to understand its motivation. NumPy was developed to support scientific computations via the efficient implementation of a multi-dimensional array. In addition to an efficient array implementation, NumPy also includes functions for performing operations on NumPy arrays that are optimized for computational efficeincy. The following code block illustrate the substantial increas in efficiency that NumPy provides in comparison to a standard python list. Specifically, the example considers the task of adding two vectors of a specified size using both standard Python lists and NumPy arrays. The time of the addition, and the size of the resulting objects are reported for comparison purposes.\n",
    "\n",
    "\n",
    "<div class=\"alert alert-block alert-info\">\n",
    "    <b>The <i>del()</i> function:</b> The <i>del()</i> function is a python method that deletes a created object from memory. For example, <i>del(my_var)</i> deletes a Python variable named <i>my_var</i>, freeing any computer memory that was being used to store the variable. The <i>del(my_var)</i> can take multiple arguments. For example, <i>del(my_var1, my_var2)</i> deletes the Python variables named <i>my_var1</i> and <i>my_var2</i>. If you pass an argument to <i>del(my_var)</i> that does not correspond to an existing Python object, an error will be raised.\n",
    "</div>\n",
    "\n",
    "[Back to Table of Contents](#Table_of_Contents)<br>"
   ]
  },
  {
   "cell_type": "code",
   "execution_count": 2,
   "metadata": {},
   "outputs": [
    {
     "name": "stdout",
     "output_type": "stream",
     "text": [
      "Using Python lists, the addition took 8.997678756713867 milliseconds.\n",
      "The size of the result object based on Python lists is 824464 bytes.\n",
      "\n",
      "Using NumPy arrays, the addition took 0.0 milliseconds.\n",
      "The size of the result object based on NumPy arrays is 400096 bytes.\n",
      "\n"
     ]
    }
   ],
   "source": [
    "import time\n",
    "import sys\n",
    "\n",
    "SIZE = 100000\n",
    "\n",
    "list1 = range(SIZE)\n",
    "list2 = range(SIZE)\n",
    "\n",
    "start = time.time()\n",
    "result = [(x+y) for x,y in zip(list1,list2)]\n",
    "print(\"Using Python lists, the addition took\",(time.time() - start)*1000,\"milliseconds.\")\n",
    "print(\"The size of the result object based on Python lists is\",sys.getsizeof(result),\"bytes.\\n\")\n",
    "\n",
    "del(list1, list2, result)\n",
    "\n",
    "nparray1 = np.arange(SIZE)\n",
    "nparray2 = np.arange(SIZE)\n",
    "start = time.time()\n",
    "result = nparray1 + nparray2\n",
    "print(\"Using NumPy arrays, the addition took\",(time.time() - start)*1000,\"milliseconds.\")\n",
    "print(\"The size of the result object based on NumPy arrays is\",sys.getsizeof(result),\"bytes.\\n\")\n",
    "\n",
    "del(nparray1, nparray2, result)"
   ]
  },
  {
   "cell_type": "markdown",
   "metadata": {},
   "source": [
    "In addition to demonstrating the substantial performance gains offered by NumPy, the previous code block also illsutrates some of the subtle differences of working with Python lists and NumPy arrays, and a method for checking the computation time that is required to execute a portion of code. Specifically:\n",
    "\n",
    "- The `time.time()` function, from the `time` module, returns the current system time. Saving the value of the current time in a variable `start` and then computing the difference `time.time() - start` returns the seconds elapsing between the two calls to `time.time()` in seconds. Multiplying by 1000 converts the elapsed time to milliseconds.\n",
    "\n",
    "\n",
    "- When working with Python lists, the `range()` function returns a sequence of integers starting at zero and ending at the argument passed to `range()`. In our example, we pass a variable `SIZE` to the `range()` function. Thus, the sequence stored in the list is 0, 1, ..., `SIZE`-2, `SIZE`-1.\n",
    "\n",
    "\n",
    "- When working with NumPy arrays, the `np.range()` function returns a sequence of integers starting at zero and ending at the argument passed to `np.arange()`. In our example, we pass a variable `SIZE` to the `np.arange()` function. Thus, the sequence stored in the NumPy array is 0, 1, ..., `SIZE`-2, `SIZE`-1.\n",
    "\n",
    "\n",
    "- The `sys.getsizeof()` function, from the `sys` library, returns the size of an object in bytes.\n",
    "\n",
    "\n",
    "- When working with Python lists, the `zip()` function essentially combines two or more list objects and allows element-wise operations to be performed.\n",
    "\n",
    "\n",
    "- When working with NumPy arrays, there is no need to *zip* arrays. Instead, element-wise operations are performed using standard mathematical operators.\n",
    "\n",
    "[Back to Table of Contents](#Table_of_Contents)<br>"
   ]
  },
  {
   "cell_type": "markdown",
   "metadata": {},
   "source": [
    "<div class=\"alert alert-block alert-info\">\n",
    "    <b>Jupyter's <i>timeit</i> magic command:</b> Another approach for timing operations that is <b>specific to Jupyter notebooks</b> is the <i>timeit</i> magic command. This command can be used with syntax that follows the form <b>%timeit [-n &lt;N&gt; -r &lt;R&gt; [-t|-c] -q -p &lt;P&gt; -o]</b>, where\n",
    "\n",
    "<li> -n &lt;N&gt;: specifies to execute the given statement &lt;N&gt; times in a loop. If <N> is not provided, <N> is determined so as to get sufficient accuracy.</li>\n",
    "\n",
    "<li> -r &lt;R&gt;: specifies the number of repeats &lt;R&gt;, each consisting of &lt;N&gt; loops, and take the best result. Default: 7</li>\n",
    "\n",
    "<li> -t: specifies to use time.time to measure the time, which is the default on Unix. This function measures wall time, i.e., elapsed real time.</li>\n",
    "\n",
    "<li> -c: specifies to use time.clock to measure the time, which is the default on Windows and measures wall time. On Unix, resource.getrusage is used instead and returns the CPU user time.</li>\n",
    "\n",
    "<li> -p &lt;P&gt;: specifies to use a precision of &lt;P&gt; digits to display the timing result. Default: 3</li>\n",
    "\n",
    "<li> -q: specifies quiet calculation, where no results are printed.\n",
    "</div>\n",
    "\n",
    "The following block performs a the timing check using the `timeit` magic command, with 5 repeats of 10 executions. Note that by performing the calcuations multiple times, the `timeit` magic is able to provide estimates of the variability in computational time.\n",
    "\n",
    "[Back to Table of Contents](#Table_of_Contents)<br>"
   ]
  },
  {
   "cell_type": "code",
   "execution_count": 3,
   "metadata": {},
   "outputs": [
    {
     "name": "stdout",
     "output_type": "stream",
     "text": [
      "Time statistics for Python lists:\n",
      "7.89 ms ± 117 µs per loop (mean ± std. dev. of 5 runs, 10 loops each)\n",
      "\n",
      "Time statistics for NumPy arrays:\n",
      "52 µs ± 4.66 µs per loop (mean ± std. dev. of 5 runs, 10 loops each)\n"
     ]
    }
   ],
   "source": [
    "SIZE = 100000\n",
    "\n",
    "list1 = range(SIZE)\n",
    "list2 = range(SIZE)\n",
    "\n",
    "print(\"Time statistics for Python lists:\")\n",
    "%timeit -n 10 -r 5 [(x+y) for x,y in zip(list1,list2)]\n",
    "\n",
    "del(list1,list2)\n",
    "\n",
    "nparray1 = np.arange(SIZE)\n",
    "nparray2 = np.arange(SIZE)\n",
    "\n",
    "print(\"\\nTime statistics for NumPy arrays:\")\n",
    "%timeit -n 10 -r 5 nparray1 + nparray2\n",
    "\n",
    "del(nparray1, nparray2)"
   ]
  },
  {
   "cell_type": "markdown",
   "metadata": {},
   "source": [
    "#### Searching for Relevant NumPy Methods\n",
    "\n",
    "A final interesting thing to note is that the NumPy package includes a method to search for other methods that may be used to accomplish a desired task. This is extremely helpful given the large size of the package. As an example, suppose that we are interested in methods that work with the *standard deviation* for a set of numbers. The following code block shows how NumPy's `lookfor()` method allows us to search for such methods.\n",
    "\n",
    "[Back to Table of Contents](#Table_of_Contents)<br>"
   ]
  },
  {
   "cell_type": "code",
   "execution_count": 4,
   "metadata": {},
   "outputs": [
    {
     "name": "stdout",
     "output_type": "stream",
     "text": [
      "Search results for 'standard deviation'\n",
      "---------------------------------------\n",
      "numpy.std\n",
      "    Compute the standard deviation along the specified axis.\n",
      "numpy.nanstd\n",
      "    Compute the standard deviation along the specified axis, while\n",
      "numpy.ma.std\n",
      "    Returns the standard deviation of the array elements along given axis.\n",
      "numpy.matrix.std\n",
      "    Return the standard deviation of the array elements along the given axis.\n",
      "numpy.chararray.std\n",
      "    Returns the standard deviation of the array elements along given axis.\n",
      "numpy.ma.MaskedArray.std\n",
      "    Returns the standard deviation of the array elements along given axis.\n",
      "numpy.var\n",
      "    Compute the variance along the specified axis.\n",
      "numpy.nanvar\n",
      "    Compute the variance along the specified axis, while ignoring NaNs.\n",
      "numpy.ma.var\n",
      "    Compute the variance along the specified axis.\n",
      "numpy.histogram_bin_edges\n",
      "    Function to calculate only the edges of the bins used by the `histogram` function.\n",
      "numpy.ma.MaskedArray.var\n",
      "    Compute the variance along the specified axis."
     ]
    }
   ],
   "source": [
    "np.lookfor('Standard deviation')"
   ]
  },
  {
   "cell_type": "markdown",
   "metadata": {},
   "source": [
    "### NumPy Arrays\n",
    "<a id=\"NumPy_Arrays\"> </a>\n",
    "\n",
    "The key data structure used by NumPy is the multi-dimensional array or `ndarray`. The following code blocks demonstrate. several methods for creating numpy arrays.\n",
    "\n",
    "<div class=\"alert alert-block alert-info\">\n",
    "    <b>NumPy's <i>random</i> module:</b> The final two examples utilize random number generators from NumPy's <i>random</i> module. The methods available in this module can be accessed via the prefix <i>np.random.</i> (this assumes NumPy was imported as np).\n",
    "</div>\n",
    "\n",
    "[Back to Table of Contents](#Table_of_Contents)<br>"
   ]
  },
  {
   "cell_type": "code",
   "execution_count": 5,
   "metadata": {},
   "outputs": [
    {
     "data": {
      "text/plain": [
       "array([1, 2, 3, 4])"
      ]
     },
     "execution_count": 5,
     "metadata": {},
     "output_type": "execute_result"
    }
   ],
   "source": [
    "# Creating a one-dimensional (1-d) array with a list\n",
    "np.array([1,2,3,4])"
   ]
  },
  {
   "cell_type": "code",
   "execution_count": 6,
   "metadata": {},
   "outputs": [
    {
     "data": {
      "text/plain": [
       "array([[1, 2, 3, 4],\n",
       "       [5, 6, 7, 8]])"
      ]
     },
     "execution_count": 6,
     "metadata": {},
     "output_type": "execute_result"
    }
   ],
   "source": [
    "# Creating a two-dimensional (2-d) array with a list\n",
    "my_list = [[1,2,3,4],\n",
    "           [5,6,7,8]]\n",
    "\n",
    "np.array(my_list)"
   ]
  },
  {
   "cell_type": "code",
   "execution_count": 7,
   "metadata": {},
   "outputs": [
    {
     "data": {
      "text/plain": [
       "array([[0., 0., 0., 0., 0.],\n",
       "       [0., 0., 0., 0., 0.],\n",
       "       [0., 0., 0., 0., 0.],\n",
       "       [0., 0., 0., 0., 0.]])"
      ]
     },
     "execution_count": 7,
     "metadata": {},
     "output_type": "execute_result"
    }
   ],
   "source": [
    "# Creating a two-dimensional (2-d) array of size 4 x 5 (rows X columns)\n",
    "# that is filled with zeros\n",
    "np.zeros((4,5))"
   ]
  },
  {
   "cell_type": "code",
   "execution_count": 8,
   "metadata": {},
   "outputs": [
    {
     "data": {
      "text/plain": [
       "array([[1., 0., 0., 0., 0.],\n",
       "       [0., 1., 0., 0., 0.],\n",
       "       [0., 0., 1., 0., 0.],\n",
       "       [0., 0., 0., 1., 0.],\n",
       "       [0., 0., 0., 0., 1.]])"
      ]
     },
     "execution_count": 8,
     "metadata": {},
     "output_type": "execute_result"
    }
   ],
   "source": [
    "# Creating a two-dimensional 5 x 5 identity matrix\n",
    "np.eye(5)"
   ]
  },
  {
   "cell_type": "code",
   "execution_count": 9,
   "metadata": {},
   "outputs": [
    {
     "data": {
      "text/plain": [
       "array([[50.75550682,  2.11933018, 43.35217582],\n",
       "       [44.6313056 , 23.88199894, 83.02457318],\n",
       "       [74.47641766, 58.6479001 , 49.28678526],\n",
       "       [48.73558798, 26.67406959, 60.50111014],\n",
       "       [75.3543721 , 27.0584228 , 52.23032831]])"
      ]
     },
     "execution_count": 9,
     "metadata": {},
     "output_type": "execute_result"
    }
   ],
   "source": [
    "# Creating a two-dimensional 5 x 3 matrix filled with\n",
    "# values randomly drawn from a continuous uniform distribution\n",
    "# that ranges from 0.0 to 100.0\n",
    "np.random.uniform(low = 0.0, high = 100.0, size = (5, 3))"
   ]
  },
  {
   "cell_type": "code",
   "execution_count": 10,
   "metadata": {},
   "outputs": [
    {
     "data": {
      "text/plain": [
       "array([[10.57716264,  8.91484097, 10.34320476],\n",
       "       [11.96563566,  9.9493022 ,  9.4248951 ],\n",
       "       [11.84888573,  9.8775074 ,  8.53793331]])"
      ]
     },
     "execution_count": 10,
     "metadata": {},
     "output_type": "execute_result"
    }
   ],
   "source": [
    "# Creating a two-dimensional 3 x 3 matrix filled with\n",
    "# values randomly drawn from a normal distribution with\n",
    "# a mean of 10.0 and standard deviation of 2.0 \n",
    "np.random.normal(loc = 10.0, scale = 2.0, size = (3,3))"
   ]
  },
  {
   "cell_type": "markdown",
   "metadata": {},
   "source": [
    "The following code blocks demonstrate several attributes of NumPy arrays that we can use to gain information regarding their structure.\n",
    "\n",
    "[Back to Table of Contents](#Table_of_Contents)<br>"
   ]
  },
  {
   "cell_type": "code",
   "execution_count": 11,
   "metadata": {},
   "outputs": [
    {
     "name": "stdout",
     "output_type": "stream",
     "text": [
      "my_array has 2 dimensions.\n",
      "\n",
      "The shape of my_array is (3, 5) .\n",
      "\n",
      "my_array has 15 entries.\n",
      "\n",
      "The data type for entries of my_array is float64 .\n",
      "\n",
      "The size of each element of my_array is 8 bytes.\n",
      "\n",
      "The size of of my_array is 120 bytes.\n",
      "\n"
     ]
    }
   ],
   "source": [
    "# Create a two-dimensional 3 x 5 matrix filled with\n",
    "# values randomly drawn from a normal distribution with\n",
    "# a mean of 10.0 and standard deviation of 2.0 and store\n",
    "# the array in a variable named my_array\n",
    "\n",
    "my_array = np.random.normal(loc = 10.0, scale = 2.0, size = (3, 5))\n",
    "\n",
    "# Use ndim attribute to get number of dimensons\n",
    "print('my_array has', my_array.ndim, 'dimensions.\\n')\n",
    "\n",
    "# Use shape attribute to get shape of the array\n",
    "print('The shape of my_array is', my_array.shape,'.\\n')\n",
    "\n",
    "# Use size attribute to get the size of the array\n",
    "# (i.e., the number of entires)\n",
    "print('my_array has', my_array.size,'entries.\\n')\n",
    "\n",
    "# Use dtype attribute to determine the data type for array elements\n",
    "print('The data type for entries of my_array is', my_array.dtype,'.\\n')\n",
    "\n",
    "# Use itemsize attribute to determine size of each array element\n",
    "print('The size of each element of my_array is', my_array.itemsize,'bytes.\\n')\n",
    "\n",
    "# Use nbytes attribute to estimate the size of the array, which we \n",
    "# expect to equal the product of the itemsize and size attribute values\n",
    "print('The size of of my_array is', my_array.nbytes,'bytes.\\n')"
   ]
  },
  {
   "cell_type": "markdown",
   "metadata": {},
   "source": [
    "###  Basic Computations with NumPy Arrays\n",
    "<a id=\"Array_Computation\"> </a>\n",
    "\n",
    "NumPy is able to achieve fast computation times through the use of *vectorized* operations. Essentially, instead of performing operations on NumPy array elements one at a time, NumPy operations can be performed on entire arrays or slices of arrays. The following code block shows some examples.\n",
    "\n",
    "[Back to Table of Contents](#Table_of_Contents)<br>"
   ]
  },
  {
   "cell_type": "code",
   "execution_count": 12,
   "metadata": {},
   "outputs": [],
   "source": [
    "# Create two two-dimensional 3 x 5 arrays, the first with\n",
    "# values randomly drawn from a uniform distribution with low\n",
    "# and high values of 0.0 and 1.0, respectively, and the second\n",
    "# with values drawn from discrete uniform distribution ranging from\n",
    "# 1 to 10.\n",
    "\n",
    "array1 = np.random.uniform(low = 0.0, high = 1.0, size = (3, 5))\n",
    "array2 = np.random.randint(low = 1, high = 10, size = (3, 5))"
   ]
  },
  {
   "cell_type": "code",
   "execution_count": 13,
   "metadata": {},
   "outputs": [
    {
     "data": {
      "text/plain": [
       "array([[0.93864246, 0.74504455, 0.91073504, 0.23722471, 0.49496735],\n",
       "       [0.80987834, 0.95456578, 0.63748325, 0.91084975, 0.69213675],\n",
       "       [0.04294299, 0.8335869 , 0.36994852, 0.936557  , 0.48305288]])"
      ]
     },
     "execution_count": 13,
     "metadata": {},
     "output_type": "execute_result"
    }
   ],
   "source": [
    "# Print array1\n",
    "array1"
   ]
  },
  {
   "cell_type": "code",
   "execution_count": 14,
   "metadata": {},
   "outputs": [
    {
     "data": {
      "text/plain": [
       "array([[5, 6, 7, 4, 9],\n",
       "       [2, 8, 5, 2, 3],\n",
       "       [5, 4, 4, 5, 3]])"
      ]
     },
     "execution_count": 14,
     "metadata": {},
     "output_type": "execute_result"
    }
   ],
   "source": [
    "# Print array2\n",
    "array2"
   ]
  },
  {
   "cell_type": "code",
   "execution_count": 15,
   "metadata": {},
   "outputs": [
    {
     "data": {
      "text/plain": [
       "array([[5.93864246, 6.74504455, 7.91073504, 4.23722471, 9.49496735],\n",
       "       [2.80987834, 8.95456578, 5.63748325, 2.91084975, 3.69213675],\n",
       "       [5.04294299, 4.8335869 , 4.36994852, 5.936557  , 3.48305288]])"
      ]
     },
     "execution_count": 15,
     "metadata": {},
     "output_type": "execute_result"
    }
   ],
   "source": [
    "# Add the arrays\n",
    "array1 + array2"
   ]
  },
  {
   "cell_type": "code",
   "execution_count": 16,
   "metadata": {},
   "outputs": [
    {
     "data": {
      "text/plain": [
       "array([[4.06135754, 5.25495545, 6.08926496, 3.76277529, 8.50503265],\n",
       "       [1.19012166, 7.04543422, 4.36251675, 1.08915025, 2.30786325],\n",
       "       [4.95705701, 3.1664131 , 3.63005148, 4.063443  , 2.51694712]])"
      ]
     },
     "execution_count": 16,
     "metadata": {},
     "output_type": "execute_result"
    }
   ],
   "source": [
    "# Subtract array1 from array2\n",
    "array2 - array1"
   ]
  },
  {
   "cell_type": "code",
   "execution_count": 17,
   "metadata": {},
   "outputs": [
    {
     "data": {
      "text/plain": [
       "array([[0.2       , 0.16666667, 0.14285714, 0.25      , 0.11111111],\n",
       "       [0.5       , 0.125     , 0.2       , 0.5       , 0.33333333],\n",
       "       [0.2       , 0.25      , 0.25      , 0.2       , 0.33333333]])"
      ]
     },
     "execution_count": 17,
     "metadata": {},
     "output_type": "execute_result"
    }
   ],
   "source": [
    "# Compute the reciprocal of values in array2\n",
    "1.0/array2"
   ]
  },
  {
   "cell_type": "code",
   "execution_count": 18,
   "metadata": {},
   "outputs": [
    {
     "data": {
      "text/plain": [
       "array([[1.93864246, 1.74504455, 1.91073504, 1.23722471, 1.49496735],\n",
       "       [1.80987834, 1.95456578, 1.63748325, 1.91084975, 1.69213675],\n",
       "       [1.04294299, 1.8335869 , 1.36994852, 1.936557  , 1.48305288]])"
      ]
     },
     "execution_count": 18,
     "metadata": {},
     "output_type": "execute_result"
    }
   ],
   "source": [
    "# Add 1 to all elements of array1\n",
    "array1 + 1.0"
   ]
  },
  {
   "cell_type": "code",
   "execution_count": 19,
   "metadata": {},
   "outputs": [
    {
     "data": {
      "text/plain": [
       "array([[12.62099319,  5.10182754,  9.58876637, -2.87448875, -4.10014641],\n",
       "       [11.11805847, 10.22391671,  3.127698  , 14.59294544,  6.58106565],\n",
       "       [-4.96311799,  9.89734242, -1.26276191, 12.54278032,  1.6668016 ]])"
      ]
     },
     "execution_count": 19,
     "metadata": {},
     "output_type": "execute_result"
    }
   ],
   "source": [
    "# Compute 20*(array1^2)-array2\n",
    "20*(array1**2)-array2"
   ]
  },
  {
   "cell_type": "code",
   "execution_count": 20,
   "metadata": {},
   "outputs": [
    {
     "data": {
      "text/plain": [
       "array([[12.62099319,  5.10182754,  9.58876637,  2.87448875,  4.10014641],\n",
       "       [11.11805847, 10.22391671,  3.127698  , 14.59294544,  6.58106565],\n",
       "       [ 4.96311799,  9.89734242,  1.26276191, 12.54278032,  1.6668016 ]])"
      ]
     },
     "execution_count": 20,
     "metadata": {},
     "output_type": "execute_result"
    }
   ],
   "source": [
    "# Compute the absolute value for 20*(array1^2)-array2\n",
    "abs(20*(array1**2)-array2)"
   ]
  },
  {
   "cell_type": "code",
   "execution_count": 21,
   "metadata": {},
   "outputs": [],
   "source": [
    "del(array1, array2)"
   ]
  },
  {
   "cell_type": "markdown",
   "metadata": {},
   "source": [
    "### Aggregations\n",
    "<a id=\"Array_Aggregations\"> </a>\n",
    "\n",
    "In addition to performing computations on each element of an array, NumPy also allows users to perform aggregations accross all elements and to perform computations along a particular array *axis*. Before continuing, it is important to understand exactly what is meant by an *array axis*.\n",
    "\n",
    "In NumPy, *axes* are defined for arrays with more than one dimension. For example, a 2-dimensional array has two axes: the first running vertically downwards across rows (axis 0), and the second running horizontally across columns (axis 1). Another way to think about this is if I have an $mxn$ array, where $m$ is the number of rows and $n$ the number of columns, the first axis, axis 0, runs across the $m$ rows and the second axis, axis 1, runs across the $n$ columns. \n",
    "\n",
    "Using this concept of array axes, we can do computations across rows and columns of arrays. The following code blocks provide examples.\n",
    "\n",
    "[Back to Table of Contents](#Table_of_Contents)<br>"
   ]
  },
  {
   "cell_type": "code",
   "execution_count": 22,
   "metadata": {},
   "outputs": [
    {
     "data": {
      "text/plain": [
       "array([[7, 1, 6, 5, 7],\n",
       "       [7, 7, 4, 9, 9],\n",
       "       [9, 6, 8, 1, 8]])"
      ]
     },
     "execution_count": 22,
     "metadata": {},
     "output_type": "execute_result"
    }
   ],
   "source": [
    "# Create a two-dimensional 3 x 5 array with values drawn\n",
    "# from discrete uniform distribution ranging from 1 to 10.\n",
    "\n",
    "my_array1 = np.random.randint(low = 1, high = 10, size = (3, 5))\n",
    "my_array1"
   ]
  },
  {
   "cell_type": "code",
   "execution_count": 23,
   "metadata": {},
   "outputs": [
    {
     "data": {
      "text/plain": [
       "94"
      ]
     },
     "execution_count": 23,
     "metadata": {},
     "output_type": "execute_result"
    }
   ],
   "source": [
    "# Sum all array values\n",
    "np.sum(my_array1)"
   ]
  },
  {
   "cell_type": "code",
   "execution_count": 24,
   "metadata": {},
   "outputs": [
    {
     "data": {
      "text/plain": [
       "array([26, 36, 32])"
      ]
     },
     "execution_count": 24,
     "metadata": {},
     "output_type": "execute_result"
    }
   ],
   "source": [
    "# Sum the values in each row\n",
    "# Note that we need to sum the values across\n",
    "# each column, or axis 1\n",
    "np.sum(my_array1, axis = 1)"
   ]
  },
  {
   "cell_type": "code",
   "execution_count": 25,
   "metadata": {},
   "outputs": [
    {
     "data": {
      "text/plain": [
       "array([23, 14, 18, 15, 24])"
      ]
     },
     "execution_count": 25,
     "metadata": {},
     "output_type": "execute_result"
    }
   ],
   "source": [
    "# Sum the values in each column\n",
    "# Note that we need to sum the values across\n",
    "# each row, or axis 0\n",
    "np.sum(my_array1, axis = 0)"
   ]
  },
  {
   "cell_type": "code",
   "execution_count": 26,
   "metadata": {},
   "outputs": [
    {
     "data": {
      "text/plain": [
       "array([7, 9, 9])"
      ]
     },
     "execution_count": 26,
     "metadata": {},
     "output_type": "execute_result"
    }
   ],
   "source": [
    "# Find the maximum value in each row\n",
    "np.max(my_array1, axis = 1)"
   ]
  },
  {
   "cell_type": "code",
   "execution_count": 27,
   "metadata": {},
   "outputs": [
    {
     "data": {
      "text/plain": [
       "array([0, 3, 0], dtype=int64)"
      ]
     },
     "execution_count": 27,
     "metadata": {},
     "output_type": "execute_result"
    }
   ],
   "source": [
    "# Find the index of the maximum value in each row\n",
    "# Note that indexing starts at 0!\n",
    "np.argmax(my_array1, axis = 1)"
   ]
  },
  {
   "cell_type": "markdown",
   "metadata": {},
   "source": [
    "NumPy provides many other aggregation functions, but we won't discuss them in detail here. Additionally, most aggregates have a ``NaN``-safe counterpart that computes the result while ignoring missing values, which are marked by the special IEEE floating-point ``NaN`` value. \n",
    "\n",
    "The following table provides a list of useful aggregation functions available in NumPy:\n",
    "\n",
    "|Function Name      |   NaN-safe Version  | Description                                   |\n",
    "|-------------------|---------------------|-----------------------------------------------|\n",
    "| ``np.sum``        | ``np.nansum``       | Compute sum of elements                       |\n",
    "| ``np.prod``       | ``np.nanprod``      | Compute product of elements                   |\n",
    "| ``np.mean``       | ``np.nanmean``      | Compute mean of elements                      |\n",
    "| ``np.std``        | ``np.nanstd``       | Compute standard deviation                    |\n",
    "| ``np.var``        | ``np.nanvar``       | Compute variance                              |\n",
    "| ``np.min``        | ``np.nanmin``       | Find minimum value                            |\n",
    "| ``np.max``        | ``np.nanmax``       | Find maximum value                            |\n",
    "| ``np.argmin``     | ``np.nanargmin``    | Find index of minimum value                   |\n",
    "| ``np.argmax``     | ``np.nanargmax``    | Find index of maximum value                   |\n",
    "| ``np.median``     | ``np.nanmedian``    | Compute median of elements                    |\n",
    "| ``np.percentile`` | ``np.nanpercentile``| Compute rank-based statistics of elements     |\n",
    "| ``np.any``        | N/A                 | Evaluate whether any elements are true        |\n",
    "| ``np.all``        | N/A                 | Evaluate whether all elements are true        |\n",
    "\n",
    "[Back to Table of Contents](#Table_of_Contents)<br>"
   ]
  },
  {
   "cell_type": "markdown",
   "metadata": {},
   "source": [
    "### Broadcasting\n",
    "<a id=\"Array_Broadcasting\"> </a>"
   ]
  },
  {
   "cell_type": "markdown",
   "metadata": {},
   "source": [
    "Earlier, when we looked at basic NumPy array computations, we consider arrays that were all the same size. However, there are cases where we may wish to perfrom operations involving arrays that are not equivalently sized. In such cases, *array broadcasting* is helpful. Consider the following example.\n",
    "\n",
    "[Back to Table of Contents](#Table_of_Contents)<br>"
   ]
  },
  {
   "cell_type": "code",
   "execution_count": 28,
   "metadata": {},
   "outputs": [
    {
     "name": "stdout",
     "output_type": "stream",
     "text": [
      "my_array is [5 6 7]\n",
      "my_array + 1 is [6 7 8]\n"
     ]
    }
   ],
   "source": [
    "my_array= np.array([5, 6, 7])\n",
    "\n",
    "print(f'my_array is {my_array}')\n",
    "print(f'my_array + 1 is {my_array + 1}')"
   ]
  },
  {
   "cell_type": "code",
   "execution_count": 29,
   "metadata": {},
   "outputs": [
    {
     "data": {
      "text/plain": [
       "(3,)"
      ]
     },
     "execution_count": 29,
     "metadata": {},
     "output_type": "execute_result"
    }
   ],
   "source": [
    "my_array.shape"
   ]
  },
  {
   "cell_type": "markdown",
   "metadata": {},
   "source": [
    "When we look at the previous example, it is very clear that a value of 1 is added to each element of `my_array`. However, `my_array` is an array of length 3, whereas the value 1 is essentially an array of length 1. Thus, NumPy is actually broadcasting the value 1 to the array `[1, 1, 1]` and then adding this broadcasted array to the `my_array` object.\n",
    "\n",
    "Broadcasting in NumPy follows a strict set of rules to determine the interaction between two arrays:\n",
    "\n",
    "- Rule 1: If the two arrays differ in their number of dimensions, the shape of the one with fewer dimensions is padded with ones on its leading (left) side.\n",
    "- Rule 2: If the shape of the two arrays does not match in any dimension, the array with shape equal to 1 in that dimension is stretched to match the other shape.\n",
    "- Rule 3: If in any dimension the sizes disagree and neither is equal to 1, an error is raised.\n",
    "\n",
    "The following examples aim to make these rules clear.\n",
    "\n",
    "[Back to Table of Contents](#Table_of_Contents)<br>"
   ]
  },
  {
   "cell_type": "markdown",
   "metadata": {},
   "source": [
    "#### Broadcasting example 1\n",
    "\n",
    "Let's consider adding a 2D array and a 1D array.\n",
    "\n",
    "[Back to Table of Contents](#Table_of_Contents)<br>"
   ]
  },
  {
   "cell_type": "code",
   "execution_count": 30,
   "metadata": {},
   "outputs": [
    {
     "name": "stdout",
     "output_type": "stream",
     "text": [
      "my_1D_array is [1 2 3]\n",
      "\n",
      "my_2D_array is\n",
      " [[1. 0. 0.]\n",
      " [0. 1. 0.]\n",
      " [0. 0. 1.]]\n"
     ]
    }
   ],
   "source": [
    "my_1D_array = np.array([1, 2, 3])\n",
    "print(f'my_1D_array is {my_1D_array}\\n')\n",
    "\n",
    "my_2D_array = np.eye(3)\n",
    "print(f'my_2D_array is\\n {my_2D_array}')"
   ]
  },
  {
   "cell_type": "markdown",
   "metadata": {},
   "source": [
    "The shape of `my_1D_array` is (3,) and the shape of `my_2D_array` is (3, 3). Thus, according to the first broadcasting rule, we need to pad the one with the smallest dimension (`my_1D_array`) on the left with ones. This padding is  referring to the array dimension, so `my_1D_array` will be transformed to shape (1, 3).\n",
    "\n",
    "Next, we look at rule 2, and note that the shape of the two arrays does not match in the first dimension. Specifically, `my_1D_array` is (1, 3) and `my_2D_array` is (3, 3). Thus, we stretch the first dimension of `my_1D_array` to get a (3, 3) array.\n",
    "\n",
    "We can now add the arrays together.\n",
    "\n",
    "[Back to Table of Contents](#Table_of_Contents)<br>"
   ]
  },
  {
   "cell_type": "code",
   "execution_count": 31,
   "metadata": {},
   "outputs": [
    {
     "data": {
      "text/plain": [
       "array([[2., 2., 3.],\n",
       "       [1., 3., 3.],\n",
       "       [1., 2., 4.]])"
      ]
     },
     "execution_count": 31,
     "metadata": {},
     "output_type": "execute_result"
    }
   ],
   "source": [
    "my_1D_array + my_2D_array"
   ]
  },
  {
   "cell_type": "code",
   "execution_count": 32,
   "metadata": {},
   "outputs": [],
   "source": [
    "del(my_1D_array, my_2D_array)"
   ]
  },
  {
   "cell_type": "markdown",
   "metadata": {},
   "source": [
    "#### Broadcasting example 2\n",
    "\n",
    "We will now slightly modify the previous example to illustrate a situation that will result in an error.\n",
    "\n",
    "[Back to Table of Contents](#Table_of_Contents)<br>"
   ]
  },
  {
   "cell_type": "code",
   "execution_count": 33,
   "metadata": {},
   "outputs": [
    {
     "name": "stdout",
     "output_type": "stream",
     "text": [
      "my_1D_array is [1 2 3]\n",
      "\n",
      "my_2D_array is\n",
      " [[1 1]\n",
      " [2 2]\n",
      " [3 3]]\n"
     ]
    }
   ],
   "source": [
    "my_1D_array = np.array([1, 2, 3])\n",
    "print(f'my_1D_array is {my_1D_array}\\n')\n",
    "\n",
    "my_2D_array = np.array([[1,1],\n",
    "                        [2,2],\n",
    "                        [3,3]])\n",
    "print(f'my_2D_array is\\n {my_2D_array}')"
   ]
  },
  {
   "cell_type": "markdown",
   "metadata": {},
   "source": [
    "The shape of `my_1D_array` is (3,) and the shape of `my_2D_array` is (3, 2). Thus, according to the first broadcasting rule, we need to pad the one with the smallest dimension (`my_1D_array`) on the left with ones. This padding is  referring to the array dimension, so `my_1D_array` will be transformed to shape (1, 3).\n",
    "\n",
    "Next, we look at rule two, and note that the shape of the two arrays does not match in the first dimension. Specifically, `my_1D_array` is (1, 3) and `my_2D_array` is (3, 2). Thus, we stretch the first dimension of `my_1D_array` to get a (3, 3) array.\n",
    "\n",
    "Now, we reach rule three with arrays of size (3, 3) (`my_1D_array`) and (3, 2) (`my_2D_array`). Since the shapes differ, an error will be raised.\n",
    "\n",
    "[Back to Table of Contents](#Table_of_Contents)<br>"
   ]
  },
  {
   "cell_type": "code",
   "execution_count": 34,
   "metadata": {},
   "outputs": [
    {
     "ename": "ValueError",
     "evalue": "operands could not be broadcast together with shapes (3,) (3,2) ",
     "output_type": "error",
     "traceback": [
      "\u001b[1;31m---------------------------------------------------------------------------\u001b[0m",
      "\u001b[1;31mValueError\u001b[0m                                Traceback (most recent call last)",
      "\u001b[1;32m<ipython-input-34-e4e991245ced>\u001b[0m in \u001b[0;36m<module>\u001b[1;34m()\u001b[0m\n\u001b[1;32m----> 1\u001b[1;33m \u001b[0mmy_1D_array\u001b[0m \u001b[1;33m+\u001b[0m \u001b[0mmy_2D_array\u001b[0m\u001b[1;33m\u001b[0m\u001b[0m\n\u001b[0m",
      "\u001b[1;31mValueError\u001b[0m: operands could not be broadcast together with shapes (3,) (3,2) "
     ]
    }
   ],
   "source": [
    "my_1D_array + my_2D_array"
   ]
  },
  {
   "cell_type": "code",
   "execution_count": 35,
   "metadata": {},
   "outputs": [],
   "source": [
    "del(my_1D_array, my_2D_array)"
   ]
  },
  {
   "cell_type": "markdown",
   "metadata": {},
   "source": [
    "### Indexing NumPy Arrays\n",
    "<a id=\"Array_Indexing\"> </a>\n",
    "\n",
    "This subsection looks at how to access elements of a NumPy arrays, which is very similar to how we access elements of lists. The following code block shows basic methods that can be used to access elements or portions of a NumPy array. It is important to keep in mind that Python and NumPy both consider 0 to be the first index.\n",
    "\n",
    "[Back to Table of Contents](#Table_of_Contents)<br>"
   ]
  },
  {
   "cell_type": "code",
   "execution_count": 36,
   "metadata": {},
   "outputs": [
    {
     "name": "stdout",
     "output_type": "stream",
     "text": [
      "my_array is\n",
      " [[-1.8879036   0.61746113 -1.26026979 -1.21270503]\n",
      " [ 0.81937935  1.83003338  0.06174604 -0.64577448]\n",
      " [-0.02463203  0.06691692 -1.03999184 -0.2560261 ]]\n",
      "\n",
      "The first element of the second row of my_array is 0.8193793515272458\n",
      "\n",
      "The first row of my_array is [-1.8879036   0.61746113 -1.26026979 -1.21270503]\n",
      "\n",
      "The first column of my_array is [-1.8879036   0.81937935 -0.02463203]\n",
      "\n"
     ]
    }
   ],
   "source": [
    "# Create a 3 x 4 array using values samples from a \n",
    "# standard normal distribution (i.e., mean = 0 and standard\n",
    "# deviation = 1)\n",
    "my_array = np.random.normal(size = (3,4))\n",
    "\n",
    "print(f'my_array is\\n {my_array}\\n')\n",
    "\n",
    "print(f'The first element of the second row of my_array is {my_array[1,0]}\\n')\n",
    "\n",
    "print(f'The first row of my_array is {my_array[0,:]}\\n')\n",
    "\n",
    "print(f'The first column of my_array is {my_array[:,0]}\\n')"
   ]
  },
  {
   "cell_type": "markdown",
   "metadata": {},
   "source": [
    "### Boolean Logic with Numpy Arrays\n",
    "<a id=\"Array_Boolean_Logic\"> </a>\n",
    "\n",
    "We can use conditions with NumPy arrays to return boolean arrays specifying which elements meet the condition. This feature will come in handy often when working with NumPy and Pandas. In this section, we demonstrate how this functionality can be used. The following code block generates a NumPy array that we will use for this demonstration.\n",
    "\n",
    "<div class=\"alert alert-block alert-info\">\n",
    "    <b>NumPy's <i>rehsape()</i> method:</b> NumPy's `reshape()` method can be used to <i>cast</i> an array from one size to another. The only requirement is that the two sizes, the original and the one to be cast to, include the same number of elements, e.g., you can cast a (12,) array to size (3, 4) but you cannot cast a (12,) array to size (3, 3).\n",
    "</div>\n",
    "\n",
    "[Back to Table of Contents](#Table_of_Contents)<br>"
   ]
  },
  {
   "cell_type": "code",
   "execution_count": 37,
   "metadata": {},
   "outputs": [
    {
     "name": "stdout",
     "output_type": "stream",
     "text": [
      "my_array is\n",
      " [[-0.23238899 -1.00755283 -0.96900851  0.3094744 ]\n",
      " [-0.11024096  1.60897676 -0.75604294  1.02829799]\n",
      " [-0.02520225 -0.33355825 -0.3729897   0.17476908]]\n"
     ]
    }
   ],
   "source": [
    "# Create a 3 x 4 array using values samples from a \n",
    "# standard normal distribution (i.e., mean = 0 and standard\n",
    "# deviation = 1)\n",
    "my_array = np.random.normal(size = 12).reshape((3, 4))\n",
    "\n",
    "print(f'my_array is\\n {my_array}')"
   ]
  },
  {
   "cell_type": "markdown",
   "metadata": {},
   "source": [
    "Let's use a condition to create a boolean array specifying values less than zero.\n",
    "\n",
    "[Back to Table of Contents](#Table_of_Contents)<br>"
   ]
  },
  {
   "cell_type": "code",
   "execution_count": 38,
   "metadata": {},
   "outputs": [
    {
     "name": "stdout",
     "output_type": "stream",
     "text": [
      "my_bool_array is\n",
      " [[ True  True  True False]\n",
      " [ True False  True False]\n",
      " [ True  True  True False]]\n"
     ]
    }
   ],
   "source": [
    "my_bool_array = my_array < 0\n",
    "\n",
    "print(f'my_bool_array is\\n {my_bool_array}')"
   ]
  },
  {
   "cell_type": "markdown",
   "metadata": {},
   "source": [
    "We can now use the boolean array to assign different values to the elements that are less than zero.\n",
    "\n",
    "[Back to Table of Contents](#Table_of_Contents)<br>"
   ]
  },
  {
   "cell_type": "code",
   "execution_count": 39,
   "metadata": {},
   "outputs": [
    {
     "name": "stdout",
     "output_type": "stream",
     "text": [
      "my_array is\n",
      " [[0.         0.         0.         0.3094744 ]\n",
      " [0.         1.60897676 0.         1.02829799]\n",
      " [0.         0.         0.         0.17476908]]\n"
     ]
    }
   ],
   "source": [
    "my_array[my_bool_array] = 0\n",
    "\n",
    "print(f'my_array is\\n {my_array}')"
   ]
  },
  {
   "cell_type": "markdown",
   "metadata": {},
   "source": [
    "This concludes the NumPy introduction."
   ]
  }
 ],
 "metadata": {
  "kernelspec": {
   "display_name": "Python 3",
   "language": "python",
   "name": "python3"
  },
  "language_info": {
   "codemirror_mode": {
    "name": "ipython",
    "version": 3
   },
   "file_extension": ".py",
   "mimetype": "text/x-python",
   "name": "python",
   "nbconvert_exporter": "python",
   "pygments_lexer": "ipython3",
   "version": "3.7.0"
  }
 },
 "nbformat": 4,
 "nbformat_minor": 2
}
